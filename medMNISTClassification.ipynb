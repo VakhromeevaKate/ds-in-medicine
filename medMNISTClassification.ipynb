{
 "cells": [
  {
   "cell_type": "markdown",
   "metadata": {},
   "source": [
    "# Med MNIST"
   ]
  },
  {
   "cell_type": "markdown",
   "metadata": {},
   "source": [
    "### Data Loading && Prepare"
   ]
  },
  {
   "cell_type": "code",
   "execution_count": 126,
   "metadata": {},
   "outputs": [],
   "source": [
    "!pip3 install torch tqdm torchsummary torchvision fastprogress matplotlib pandas scikit-learn torchmetrics timm numpy albumentations scikit-image --quiet"
   ]
  },
  {
   "cell_type": "code",
   "execution_count": 127,
   "metadata": {},
   "outputs": [],
   "source": [
    "import pandas as pd\n",
    "import os"
   ]
  },
  {
   "cell_type": "code",
   "execution_count": 128,
   "metadata": {},
   "outputs": [
    {
     "name": "stdout",
     "output_type": "stream",
     "text": [
      "['Hand', 'BreastMRI', 'ChestCT', 'HeadCT', 'AbdomenCT', 'CXR']\n"
     ]
    }
   ],
   "source": [
    "path = \"./MedMNIST\"\n",
    "classes = os.listdir(path)\n",
    "print(classes)"
   ]
  },
  {
   "cell_type": "code",
   "execution_count": 129,
   "metadata": {},
   "outputs": [],
   "source": [
    "import torch"
   ]
  },
  {
   "cell_type": "code",
   "execution_count": 130,
   "metadata": {},
   "outputs": [
    {
     "name": "stdout",
     "output_type": "stream",
     "text": [
      "cpu\n"
     ]
    }
   ],
   "source": [
    "device = torch.device(\"cuda\" if torch.cuda.is_available() else \"cpu\")\n",
    "print(device)"
   ]
  },
  {
   "cell_type": "code",
   "execution_count": 131,
   "metadata": {},
   "outputs": [
    {
     "data": {
      "text/plain": [
       "Dataset ImageFolder\n",
       "    Number of datapoints: 58954\n",
       "    Root location: ./MedMNIST\n",
       "    StandardTransform\n",
       "Transform: ToTensor()"
      ]
     },
     "execution_count": 131,
     "metadata": {},
     "output_type": "execute_result"
    }
   ],
   "source": [
    "from torchvision.datasets import ImageFolder\n",
    "from torchvision.transforms import ToTensor\n",
    "dataset=ImageFolder(path,ToTensor())\n",
    "dataset"
   ]
  },
  {
   "cell_type": "code",
   "execution_count": 132,
   "metadata": {},
   "outputs": [
    {
     "data": {
      "image/png": "[encoded data removed]",
      "text/plain": [
       "<Figure size 640x480 with 1 Axes>"
      ]
     },
     "metadata": {},
     "output_type": "display_data"
    }
   ],
   "source": [
    "import matplotlib.pyplot as plt\n",
    "import skimage.io as io\n",
    "io.imshow('./MedMNIST/BreastMRI/000010.jpeg');"
   ]
  },
  {
   "cell_type": "code",
   "execution_count": 137,
   "metadata": {},
   "outputs": [],
   "source": [
    "train_set,test_set,valid_set=torch.utils.data.random_split(dataset,[50000,6000,2954])"
   ]
  },
  {
   "cell_type": "code",
   "execution_count": 138,
   "metadata": {},
   "outputs": [],
   "source": [
    "from torch.utils.data import DataLoader\n",
    "\n",
    "train_loader = DataLoader(train_set, shuffle=True,batch_size = 16)\n",
    "test_loader = DataLoader(test_set, batch_size = 16)\n",
    "valid_loader = DataLoader(valid_set, batch_size = 16)"
   ]
  },
  {
   "cell_type": "code",
   "execution_count": 139,
   "metadata": {},
   "outputs": [],
   "source": [
    "from torchmetrics.classification import MulticlassAccuracy, MulticlassPrecision, MulticlassRecall\n"
   ]
  },
  {
   "cell_type": "code",
   "execution_count": 140,
   "metadata": {},
   "outputs": [],
   "source": [
    "import timm\n",
    "import torch\n",
    "import torch.nn as nn\n",
    "from tqdm import tqdm\n",
    "import numpy as np"
   ]
  },
  {
   "cell_type": "code",
   "execution_count": 141,
   "metadata": {},
   "outputs": [
    {
     "name": "stdout",
     "output_type": "stream",
     "text": [
      "6\n"
     ]
    }
   ],
   "source": [
    "num_classes = len(classes)\n",
    "print(num_classes)\n",
    "\n",
    "model = timm.create_model('resnet34', pretrained=True, num_classes=num_classes)\n",
    "loss_f = nn.CrossEntropyLoss()\n",
    "optimizer = torch.optim.Adam(model.parameters(), lr=0.0001)\n",
    "device = 'cuda' if torch.cuda.is_available() else 'cpu'"
   ]
  },
  {
   "cell_type": "code",
   "execution_count": 142,
   "metadata": {},
   "outputs": [
    {
     "name": "stdout",
     "output_type": "stream",
     "text": [
      "Done\n"
     ]
    }
   ],
   "source": [
    "model.to(device)\n",
    "print('Done')"
   ]
  },
  {
   "cell_type": "code",
   "execution_count": 143,
   "metadata": {},
   "outputs": [],
   "source": [
    "from torchmetrics.classification.roc import MulticlassROC\n",
    "\n",
    "MClsROC = MulticlassROC(num_classes=num_classes)\n",
    "Accuracy = MulticlassAccuracy(num_classes=num_classes).to(device)\n",
    "Precision = MulticlassPrecision(num_classes=num_classes).to(device)\n",
    "Recall = MulticlassRecall(num_classes=num_classes).to(device)\n"
   ]
  },
  {
   "cell_type": "code",
   "execution_count": 144,
   "metadata": {},
   "outputs": [
    {
     "name": "stdout",
     "output_type": "stream",
     "text": [
      "Epoch: 1\n"
     ]
    },
    {
     "name": "stderr",
     "output_type": "stream",
     "text": [
      "100%|██████████| 3125/3125 [21:07<00:00,  2.47it/s]\n"
     ]
    },
    {
     "name": "stdout",
     "output_type": "stream",
     "text": [
      "Acc:  tensor(0.9733)\n",
      "Prec:  tensor(0.9738)\n",
      "Rec:  tensor(0.9733)\n",
      "MClsROC:  ([tensor([0.0000, 0.0000, 0.0000,  ..., 1.0000, 1.0000, 1.0000]), tensor([0.0000, 0.0000, 0.0000,  ..., 1.0000, 1.0000, 1.0000]), tensor([0.0000, 0.0000, 0.0000,  ..., 1.0000, 1.0000, 1.0000]), tensor([0.0000, 0.0000, 0.0000,  ..., 1.0000, 1.0000, 1.0000]), tensor([0.0000, 0.0000, 0.0000,  ..., 1.0000, 1.0000, 1.0000]), tensor([0.0000, 0.0000, 0.0000,  ..., 1.0000, 1.0000, 1.0000])], [tensor([0.0000e+00, 1.1813e-04, 2.3627e-04,  ..., 1.0000e+00, 1.0000e+00,\n",
      "        1.0000e+00]), tensor([0.0000e+00, 1.3111e-04, 2.6223e-04,  ..., 1.0000e+00, 1.0000e+00,\n",
      "        1.0000e+00]), tensor([0.0000e+00, 1.1848e-04, 2.3697e-04,  ..., 1.0000e+00, 1.0000e+00,\n",
      "        1.0000e+00]), tensor([0.0000e+00, 2.3602e-04, 3.5402e-04,  ..., 1.0000e+00, 1.0000e+00,\n",
      "        1.0000e+00]), tensor([0.0000e+00, 1.1843e-04, 2.3685e-04,  ..., 1.0000e+00, 1.0000e+00,\n",
      "        1.0000e+00]), tensor([0.0000e+00, 1.1696e-04, 2.3392e-04,  ..., 1.0000e+00, 1.0000e+00,\n",
      "        1.0000e+00])], [tensor([1.0000e+00, 9.9999e-01, 9.9998e-01,  ..., 1.6877e-07, 1.6186e-07,\n",
      "        1.3241e-07]), tensor([1.0000e+00, 1.0000e+00, 9.9999e-01,  ..., 4.1386e-07, 3.8521e-07,\n",
      "        2.6205e-07]), tensor([1.0000e+00, 1.0000e+00, 1.0000e+00,  ..., 3.7666e-07, 3.5263e-07,\n",
      "        2.9082e-07]), tensor([1.0000e+00, 9.9999e-01, 9.9999e-01,  ..., 2.9641e-08, 2.7517e-08,\n",
      "        2.0779e-08]), tensor([1.0000e+00, 9.9999e-01, 9.9999e-01,  ..., 3.3136e-07, 3.0091e-07,\n",
      "        3.0020e-07]), tensor([1.0000e+00, 1.0000e+00, 1.0000e+00,  ..., 4.6044e-07, 4.0002e-07,\n",
      "        3.4638e-07])])\n",
      "0.114608311740458\n"
     ]
    },
    {
     "name": "stderr",
     "output_type": "stream",
     "text": [
      "100%|██████████| 375/375 [01:15<00:00,  4.97it/s]\n"
     ]
    },
    {
     "name": "stdout",
     "output_type": "stream",
     "text": [
      "Acc:  tensor(0.9762)\n",
      "Prec:  tensor(0.9766)\n",
      "Rec:  tensor(0.9762)\n",
      "MClsROC:  ([tensor([0.0000, 0.0000, 0.0000,  ..., 1.0000, 1.0000, 1.0000]), tensor([0.0000, 0.0000, 0.0000,  ..., 1.0000, 1.0000, 1.0000]), tensor([0.0000, 0.0000, 0.0000,  ..., 1.0000, 1.0000, 1.0000]), tensor([0.0000, 0.0000, 0.0000,  ..., 1.0000, 1.0000, 1.0000]), tensor([0.0000, 0.0000, 0.0000,  ..., 1.0000, 1.0000, 1.0000]), tensor([0.0000, 0.0000, 0.0000,  ..., 1.0000, 1.0000, 1.0000])], [tensor([0.0000e+00, 1.0521e-04, 2.1042e-04,  ..., 1.0000e+00, 1.0000e+00,\n",
      "        1.0000e+00]), tensor([0.0000e+00, 1.1714e-04, 2.3427e-04,  ..., 1.0000e+00, 1.0000e+00,\n",
      "        1.0000e+00]), tensor([0.0000e+00, 1.0520e-04, 2.1039e-04,  ..., 1.0000e+00, 1.0000e+00,\n",
      "        1.0000e+00]), tensor([0.0000e+00, 2.1142e-04, 3.1712e-04,  ..., 1.0000e+00, 1.0000e+00,\n",
      "        1.0000e+00]), tensor([0.0000e+00, 2.1117e-04, 3.1676e-04,  ..., 1.0000e+00, 1.0000e+00,\n",
      "        1.0000e+00]), tensor([0.0000e+00, 1.0503e-04, 2.1006e-04,  ..., 1.0000e+00, 1.0000e+00,\n",
      "        1.0000e+00])], [tensor([1.0000e+00, 9.9999e-01, 9.9998e-01,  ..., 1.6186e-07, 1.3241e-07,\n",
      "        1.1900e-07]), tensor([1.0000e+00, 1.0000e+00, 9.9999e-01,  ..., 4.1386e-07, 3.8521e-07,\n",
      "        2.6205e-07]), tensor([1.0000e+00, 1.0000e+00, 1.0000e+00,  ..., 1.8138e-07, 1.0350e-07,\n",
      "        1.0036e-07]), tensor([1.0000e+00, 9.9999e-01, 9.9999e-01,  ..., 2.9641e-08, 2.7517e-08,\n",
      "        2.0779e-08]), tensor([1.0000e+00, 1.0000e+00, 9.9999e-01,  ..., 3.3136e-07, 3.0091e-07,\n",
      "        3.0020e-07]), tensor([1.0000e+00, 1.0000e+00, 1.0000e+00,  ..., 4.6044e-07, 4.0002e-07,\n",
      "        3.4638e-07])])\n",
      "0.0005565451783671354\n",
      "Epoch: 2\n"
     ]
    },
    {
     "name": "stderr",
     "output_type": "stream",
     "text": [
      "100%|██████████| 3125/3125 [23:02<00:00,  2.26it/s]\n"
     ]
    },
    {
     "name": "stdout",
     "output_type": "stream",
     "text": [
      "Acc:  tensor(0.9871)\n",
      "Prec:  tensor(0.9873)\n",
      "Rec:  tensor(0.9871)\n",
      "MClsROC:  ([tensor([0.0000, 0.0000, 0.0000,  ..., 1.0000, 1.0000, 1.0000]), tensor([0.0000, 0.0000, 0.0000,  ..., 1.0000, 1.0000, 1.0000]), tensor([0.0000, 0.0000, 0.0000,  ..., 1.0000, 1.0000, 1.0000]), tensor([0.0000, 0.0000, 0.0000,  ..., 1.0000, 1.0000, 1.0000]), tensor([0.0000, 0.0000, 0.0000,  ..., 1.0000, 1.0000, 1.0000]), tensor([0.0000, 0.0000, 0.0000,  ..., 1.0000, 1.0000, 1.0000])], [tensor([0.0000e+00, 5.5648e-05, 1.6694e-04,  ..., 1.0000e+00, 1.0000e+00,\n",
      "        1.0000e+00]), tensor([0.0000e+00, 6.1866e-05, 1.8560e-04,  ..., 1.0000e+00, 1.0000e+00,\n",
      "        1.0000e+00]), tensor([0.0000e+00, 1.1145e-04, 3.3434e-04,  ..., 1.0000e+00, 1.0000e+00,\n",
      "        1.0000e+00]), tensor([0.0000e+00, 1.1152e-04, 1.6728e-04,  ..., 1.0000e+00, 1.0000e+00,\n",
      "        1.0000e+00]), tensor([0.0000e+00, 5.5819e-05, 1.1164e-04,  ..., 1.0000e+00, 1.0000e+00,\n",
      "        1.0000e+00]), tensor([0.0000e+00, 1.6601e-04, 3.8736e-04,  ..., 1.0000e+00, 1.0000e+00,\n",
      "        1.0000e+00])], [tensor([1.0000e+00, 1.0000e+00, 1.0000e+00,  ..., 2.6033e-09, 2.2770e-09,\n",
      "        6.6374e-10]), tensor([1.0000e+00, 1.0000e+00, 1.0000e+00,  ..., 9.2165e-09, 7.0288e-09,\n",
      "        3.6944e-09]), tensor([1.0000e+00, 1.0000e+00, 1.0000e+00,  ..., 6.8021e-09, 5.2805e-09,\n",
      "        2.7927e-09]), tensor([1.0000e+00, 1.0000e+00, 1.0000e+00,  ..., 1.2622e-10, 1.0963e-10,\n",
      "        7.9000e-11]), tensor([1.0000e+00, 1.0000e+00, 1.0000e+00,  ..., 1.3277e-08, 9.9945e-09,\n",
      "        8.0817e-09]), tensor([1.0000e+00, 1.0000e+00, 1.0000e+00,  ..., 7.9378e-09, 6.7802e-09,\n",
      "        5.6698e-09])])\n",
      "0.002678448277342832\n"
     ]
    },
    {
     "name": "stderr",
     "output_type": "stream",
     "text": [
      "100%|██████████| 375/375 [01:18<00:00,  4.80it/s]\n"
     ]
    },
    {
     "name": "stdout",
     "output_type": "stream",
     "text": [
      "Acc:  tensor(0.9878)\n",
      "Prec:  tensor(0.9880)\n",
      "Rec:  tensor(0.9878)\n",
      "MClsROC:  ([tensor([0.0000, 0.0000, 0.0000,  ..., 1.0000, 1.0000, 1.0000]), tensor([0.0000, 0.0000, 0.0000,  ..., 1.0000, 1.0000, 1.0000]), tensor([0.0000, 0.0000, 0.0000,  ..., 1.0000, 1.0000, 1.0000]), tensor([0.0000, 0.0000, 0.0000,  ..., 1.0000, 1.0000, 1.0000]), tensor([0.0000, 0.0000, 0.0000,  ..., 1.0000, 1.0000, 1.0000]), tensor([0.0000, 0.0000, 0.0000,  ..., 1.0000, 1.0000, 1.0000])], [tensor([0.0000e+00, 5.2604e-05, 1.0521e-04,  ..., 1.0000e+00, 1.0000e+00,\n",
      "        1.0000e+00]), tensor([0.0000e+00, 1.1714e-04, 2.3427e-04,  ..., 1.0000e+00, 1.0000e+00,\n",
      "        1.0000e+00]), tensor([0.0000e+00, 1.0520e-04, 4.2079e-04,  ..., 1.0000e+00, 1.0000e+00,\n",
      "        1.0000e+00]), tensor([0.0000e+00, 1.0571e-04, 1.5856e-04,  ..., 1.0000e+00, 1.0000e+00,\n",
      "        1.0000e+00]), tensor([0.0000e+00, 5.2793e-05, 1.0559e-04,  ..., 1.0000e+00, 1.0000e+00,\n",
      "        1.0000e+00]), tensor([0.0000e+00, 2.6258e-04, 5.2515e-04,  ..., 1.0000e+00, 1.0000e+00,\n",
      "        1.0000e+00])], [tensor([1.0000e+00, 1.0000e+00, 1.0000e+00,  ..., 2.6033e-09, 2.2770e-09,\n",
      "        6.6374e-10]), tensor([1.0000e+00, 1.0000e+00, 1.0000e+00,  ..., 9.2165e-09, 7.0288e-09,\n",
      "        3.6944e-09]), tensor([1.0000e+00, 1.0000e+00, 1.0000e+00,  ..., 5.2805e-09, 2.7927e-09,\n",
      "        1.7710e-09]), tensor([1.0000e+00, 1.0000e+00, 1.0000e+00,  ..., 1.2622e-10, 1.0963e-10,\n",
      "        7.9000e-11]), tensor([1.0000e+00, 1.0000e+00, 1.0000e+00,  ..., 1.3277e-08, 9.9945e-09,\n",
      "        8.0817e-09]), tensor([1.0000e+00, 1.0000e+00, 1.0000e+00,  ..., 7.9378e-09, 6.7802e-09,\n",
      "        5.6698e-09])])\n",
      "0.00014415207626007032\n",
      "Epoch: 3\n"
     ]
    },
    {
     "name": "stderr",
     "output_type": "stream",
     "text": [
      "100%|██████████| 3125/3125 [25:25<00:00,  2.05it/s]\n"
     ]
    },
    {
     "name": "stdout",
     "output_type": "stream",
     "text": [
      "Acc:  tensor(0.9915)\n",
      "Prec:  tensor(0.9916)\n",
      "Rec:  tensor(0.9915)\n",
      "MClsROC:  ([tensor([0.0000, 0.0000, 0.0000,  ..., 1.0000, 1.0000, 1.0000]), tensor([0.0000, 0.0000, 0.0000,  ..., 1.0000, 1.0000, 1.0000]), tensor([0.0000, 0.0000, 0.0000,  ..., 1.0000, 1.0000, 1.0000]), tensor([0.0000, 0.0000, 0.0000,  ..., 1.0000, 1.0000, 1.0000]), tensor([0.0000, 0.0000, 0.0000,  ..., 1.0000, 1.0000, 1.0000]), tensor([0.0000, 0.0000, 0.0000,  ..., 1.0000, 1.0000, 1.0000])], [tensor([0.0000e+00, 9.0992e-04, 2.5478e-03,  ..., 1.0000e+00, 1.0000e+00,\n",
      "        1.0000e+00]), tensor([0.0000e+00, 8.0968e-05, 4.4533e-04,  ..., 1.0000e+00, 1.0000e+00,\n",
      "        1.0000e+00]), tensor([0.0000, 0.0039, 0.0077,  ..., 1.0000, 1.0000, 1.0000]), tensor([0.0000e+00, 1.0951e-04, 1.4602e-04,  ..., 1.0000e+00, 1.0000e+00,\n",
      "        1.0000e+00]), tensor([0.0000e+00, 1.0955e-04, 5.4773e-04,  ..., 1.0000e+00, 1.0000e+00,\n",
      "        1.0000e+00]), tensor([0.0000e+00, 3.6242e-05, 1.1960e-03,  ..., 1.0000e+00, 1.0000e+00,\n",
      "        1.0000e+00])], [tensor([1.0000e+00, 1.0000e+00, 1.0000e+00,  ..., 9.8580e-11, 8.9573e-11,\n",
      "        8.7601e-11]), tensor([1.0000e+00, 1.0000e+00, 1.0000e+00,  ..., 5.9819e-10, 2.9614e-10,\n",
      "        1.6832e-10]), tensor([1.0000e+00, 1.0000e+00, 1.0000e+00,  ..., 1.2796e-09, 1.1800e-09,\n",
      "        1.1058e-09]), tensor([1.0000e+00, 1.0000e+00, 1.0000e+00,  ..., 1.5383e-11, 1.3676e-11,\n",
      "        1.2813e-11]), tensor([1.0000e+00, 1.0000e+00, 1.0000e+00,  ..., 2.5004e-10, 2.2727e-10,\n",
      "        4.8190e-11]), tensor([1.0000e+00, 1.0000e+00, 1.0000e+00,  ..., 1.4051e-09, 1.2392e-09,\n",
      "        5.0214e-10])])\n",
      "0.001204272415271189\n"
     ]
    },
    {
     "name": "stderr",
     "output_type": "stream",
     "text": [
      "100%|██████████| 375/375 [01:14<00:00,  5.04it/s]\n"
     ]
    },
    {
     "name": "stdout",
     "output_type": "stream",
     "text": [
      "Acc:  tensor(0.9918)\n",
      "Prec:  tensor(0.9919)\n",
      "Rec:  tensor(0.9918)\n",
      "MClsROC:  ([tensor([0.0000, 0.0000, 0.0000,  ..., 1.0000, 1.0000, 1.0000]), tensor([0.0000, 0.0000, 0.0000,  ..., 1.0000, 1.0000, 1.0000]), tensor([0.0000, 0.0000, 0.0000,  ..., 1.0000, 1.0000, 1.0000]), tensor([0.0000, 0.0000, 0.0000,  ..., 1.0000, 1.0000, 1.0000]), tensor([0.0000, 0.0000, 0.0000,  ..., 1.0000, 1.0000, 1.0000]), tensor([0.0000, 0.0000, 0.0000,  ..., 1.0000, 1.0000, 1.0000])], [tensor([0.0000e+00, 9.1180e-04, 2.4899e-03,  ..., 1.0000e+00, 1.0000e+00,\n",
      "        1.0000e+00]), tensor([0.0000e+00, 1.1714e-04, 5.8569e-04,  ..., 1.0000e+00, 1.0000e+00,\n",
      "        1.0000e+00]), tensor([0.0000, 0.0042, 0.0087,  ..., 1.0000, 1.0000, 1.0000]), tensor([0.0000e+00, 1.0571e-04, 1.4094e-04,  ..., 1.0000e+00, 1.0000e+00,\n",
      "        1.0000e+00]), tensor([0.0000e+00, 1.0559e-04, 5.2793e-04,  ..., 1.0000e+00, 1.0000e+00,\n",
      "        1.0000e+00]), tensor([0.0000e+00, 1.4004e-04, 1.8555e-03,  ..., 1.0000e+00, 1.0000e+00,\n",
      "        1.0000e+00])], [tensor([1.0000e+00, 1.0000e+00, 1.0000e+00,  ..., 9.8580e-11, 8.9573e-11,\n",
      "        8.7601e-11]), tensor([1.0000e+00, 1.0000e+00, 1.0000e+00,  ..., 5.9819e-10, 2.9614e-10,\n",
      "        1.6832e-10]), tensor([1.0000e+00, 1.0000e+00, 1.0000e+00,  ..., 1.1058e-09, 7.4497e-10,\n",
      "        4.6424e-10]), tensor([1.0000e+00, 1.0000e+00, 1.0000e+00,  ..., 1.5383e-11, 1.3676e-11,\n",
      "        1.2813e-11]), tensor([1.0000e+00, 1.0000e+00, 1.0000e+00,  ..., 2.5004e-10, 2.2727e-10,\n",
      "        4.8190e-11]), tensor([1.0000e+00, 1.0000e+00, 1.0000e+00,  ..., 1.4051e-09, 1.2392e-09,\n",
      "        5.0214e-10])])\n",
      "1.567708348557062e-05\n",
      "Epoch: 4\n"
     ]
    },
    {
     "name": "stderr",
     "output_type": "stream",
     "text": [
      "100%|██████████| 3125/3125 [27:16<00:00,  1.91it/s]\n"
     ]
    },
    {
     "name": "stdout",
     "output_type": "stream",
     "text": [
      "Acc:  tensor(0.9937)\n",
      "Prec:  tensor(0.9938)\n",
      "Rec:  tensor(0.9937)\n",
      "MClsROC:  ([tensor([0.0000, 0.0000, 0.0000,  ..., 1.0000, 1.0000, 1.0000]), tensor([0.0000, 0.0000, 0.0000,  ..., 1.0000, 1.0000, 1.0000]), tensor([0.0000, 0.0000, 0.0000,  ..., 1.0000, 1.0000, 1.0000]), tensor([0.0000, 0.0000, 0.0000,  ..., 1.0000, 1.0000, 1.0000]), tensor([0.0000, 0.0000, 0.0000,  ..., 1.0000, 1.0000, 1.0000]), tensor([0.0000, 0.0000, 0.0000,  ..., 1.0000, 1.0000, 1.0000])], [tensor([0.0000, 0.0070, 0.0138,  ..., 1.0000, 1.0000, 1.0000]), tensor([0.0000, 0.0021, 0.0052,  ..., 1.0000, 1.0000, 1.0000]), tensor([0.0000, 0.0089, 0.0201,  ..., 1.0000, 1.0000, 1.0000]), tensor([0.0000, 0.0016, 0.0059,  ..., 1.0000, 1.0000, 1.0000]), tensor([0.0000, 0.0019, 0.0066,  ..., 1.0000, 1.0000, 1.0000]), tensor([0.0000e+00, 8.0834e-04, 5.5776e-03,  ..., 1.0000e+00, 1.0000e+00,\n",
      "        1.0000e+00])], [tensor([1.0000e+00, 1.0000e+00, 1.0000e+00,  ..., 2.1301e-11, 1.6533e-11,\n",
      "        1.0357e-11]), tensor([1.0000e+00, 1.0000e+00, 1.0000e+00,  ..., 3.3685e-11, 3.1741e-11,\n",
      "        1.1139e-11]), tensor([1.0000e+00, 1.0000e+00, 1.0000e+00,  ..., 4.0594e-11, 3.8010e-11,\n",
      "        2.2028e-11]), tensor([1.0000e+00, 1.0000e+00, 1.0000e+00,  ..., 2.6711e-12, 1.8228e-12,\n",
      "        1.6514e-12]), tensor([1.0000e+00, 1.0000e+00, 1.0000e+00,  ..., 1.0151e-10, 5.6957e-11,\n",
      "        4.8190e-11]), tensor([1.0000e+00, 1.0000e+00, 1.0000e+00,  ..., 1.6155e-10, 1.2852e-10,\n",
      "        1.2229e-10])])\n",
      "0.00016381277032713115\n"
     ]
    },
    {
     "name": "stderr",
     "output_type": "stream",
     "text": [
      "100%|██████████| 375/375 [01:15<00:00,  4.96it/s]\n"
     ]
    },
    {
     "name": "stdout",
     "output_type": "stream",
     "text": [
      "Acc:  tensor(0.9938)\n",
      "Prec:  tensor(0.9939)\n",
      "Rec:  tensor(0.9938)\n",
      "MClsROC:  ([tensor([0.0000, 0.0000, 0.0000,  ..., 1.0000, 1.0000, 1.0000]), tensor([0.0000, 0.0000, 0.0000,  ..., 1.0000, 1.0000, 1.0000]), tensor([0.0000, 0.0000, 0.0000,  ..., 1.0000, 1.0000, 1.0000]), tensor([0.0000, 0.0000, 0.0000,  ..., 1.0000, 1.0000, 1.0000]), tensor([0.0000, 0.0000, 0.0000,  ..., 1.0000, 1.0000, 1.0000]), tensor([0.0000, 0.0000, 0.0000,  ..., 1.0000, 1.0000, 1.0000])], [tensor([0.0000, 0.0157, 0.0273,  ..., 1.0000, 1.0000, 1.0000]), tensor([0.0000, 0.0025, 0.0061,  ..., 1.0000, 1.0000, 1.0000]), tensor([0.0000, 0.0102, 0.0224,  ..., 1.0000, 1.0000, 1.0000]), tensor([0.0000, 0.0021, 0.0114,  ..., 1.0000, 1.0000, 1.0000]), tensor([0.0000, 0.0021, 0.0070,  ..., 1.0000, 1.0000, 1.0000]), tensor([0.0000e+00, 8.1399e-04, 5.8817e-03,  ..., 1.0000e+00, 1.0000e+00,\n",
      "        1.0000e+00])], [tensor([1.0000e+00, 1.0000e+00, 1.0000e+00,  ..., 2.1301e-11, 1.6533e-11,\n",
      "        1.0357e-11]), tensor([1.0000e+00, 1.0000e+00, 1.0000e+00,  ..., 3.3685e-11, 3.1741e-11,\n",
      "        1.1139e-11]), tensor([1.0000e+00, 1.0000e+00, 1.0000e+00,  ..., 4.0594e-11, 3.8010e-11,\n",
      "        2.2028e-11]), tensor([1.0000e+00, 1.0000e+00, 1.0000e+00,  ..., 2.6711e-12, 1.8228e-12,\n",
      "        1.6514e-12]), tensor([1.0000e+00, 1.0000e+00, 1.0000e+00,  ..., 1.0151e-10, 5.6957e-11,\n",
      "        4.8190e-11]), tensor([1.0000e+00, 1.0000e+00, 1.0000e+00,  ..., 1.6155e-10, 1.2852e-10,\n",
      "        1.2229e-10])])\n",
      "4.159442725570746e-06\n",
      "Epoch: 5\n"
     ]
    },
    {
     "name": "stderr",
     "output_type": "stream",
     "text": [
      "100%|██████████| 3125/3125 [28:19<00:00,  1.84it/s]\n"
     ]
    },
    {
     "name": "stdout",
     "output_type": "stream",
     "text": [
      "Acc:  tensor(0.9949)\n",
      "Prec:  tensor(0.9950)\n",
      "Rec:  tensor(0.9949)\n",
      "MClsROC:  ([tensor([0.0000, 0.0000, 0.0000,  ..., 1.0000, 1.0000, 1.0000]), tensor([0.0000, 0.0000, 0.0000,  ..., 1.0000, 1.0000, 1.0000]), tensor([0.0000, 0.0000, 0.0000,  ..., 1.0000, 1.0000, 1.0000]), tensor([0.0000, 0.0000, 0.0000,  ..., 1.0000, 1.0000, 1.0000]), tensor([0.0000, 0.0000, 0.0000,  ..., 1.0000, 1.0000, 1.0000]), tensor([0.0000, 0.0000, 0.0000,  ..., 1.0000, 1.0000, 1.0000])], [tensor([0.0000, 0.0160, 0.0288,  ..., 1.0000, 1.0000, 1.0000]), tensor([0.0000, 0.0165, 0.0317,  ..., 1.0000, 1.0000, 1.0000]), tensor([0.0000, 0.0161, 0.0321,  ..., 1.0000, 1.0000, 1.0000]), tensor([0.0000, 0.0031, 0.0135,  ..., 1.0000, 1.0000, 1.0000]), tensor([0.0000, 0.0041, 0.0131,  ..., 1.0000, 1.0000, 1.0000]), tensor([0.0000, 0.0080, 0.0222,  ..., 1.0000, 1.0000, 1.0000])], [tensor([1.0000e+00, 1.0000e+00, 1.0000e+00,  ..., 4.6214e-12, 3.8322e-12,\n",
      "        2.9263e-13]), tensor([1.0000e+00, 1.0000e+00, 1.0000e+00,  ..., 3.1698e-12, 2.4130e-12,\n",
      "        2.2540e-12]), tensor([1.0000e+00, 1.0000e+00, 1.0000e+00,  ..., 1.5106e-11, 1.0005e-11,\n",
      "        9.4634e-12]), tensor([1.0000e+00, 1.0000e+00, 1.0000e+00,  ..., 3.6579e-13, 1.8659e-13,\n",
      "        1.4248e-13]), tensor([1.0000e+00, 1.0000e+00, 1.0000e+00,  ..., 1.2606e-11, 8.9131e-12,\n",
      "        6.8546e-12]), tensor([1.0000e+00, 1.0000e+00, 1.0000e+00,  ..., 1.0208e-10, 8.7370e-11,\n",
      "        2.0608e-11])])\n",
      "0.0008821873597212288\n"
     ]
    },
    {
     "name": "stderr",
     "output_type": "stream",
     "text": [
      "100%|██████████| 375/375 [01:14<00:00,  5.05it/s]\n"
     ]
    },
    {
     "name": "stdout",
     "output_type": "stream",
     "text": [
      "Acc:  tensor(0.9950)\n",
      "Prec:  tensor(0.9951)\n",
      "Rec:  tensor(0.9950)\n",
      "MClsROC:  ([tensor([0.0000, 0.0000, 0.0000,  ..., 1.0000, 1.0000, 1.0000]), tensor([0.0000, 0.0000, 0.0000,  ..., 1.0000, 1.0000, 1.0000]), tensor([0.0000, 0.0000, 0.0000,  ..., 1.0000, 1.0000, 1.0000]), tensor([0.0000, 0.0000, 0.0000,  ..., 1.0000, 1.0000, 1.0000]), tensor([0.0000, 0.0000, 0.0000,  ..., 1.0000, 1.0000, 1.0000]), tensor([0.0000, 0.0000, 0.0000,  ..., 1.0000, 1.0000, 1.0000])], [tensor([0.0000, 0.0158, 0.0286,  ..., 1.0000, 1.0000, 1.0000]), tensor([0.0000, 0.0163, 0.0314,  ..., 1.0000, 1.0000, 1.0000]), tensor([0.0000, 0.0203, 0.0390,  ..., 1.0000, 1.0000, 1.0000]), tensor([0.0000, 0.0031, 0.0132,  ..., 1.0000, 1.0000, 1.0000]), tensor([0.0000, 0.0041, 0.0130,  ..., 1.0000, 1.0000, 1.0000]), tensor([0.0000, 0.0078, 0.0217,  ..., 1.0000, 1.0000, 1.0000])], [tensor([1.0000e+00, 1.0000e+00, 1.0000e+00,  ..., 4.6214e-12, 3.8322e-12,\n",
      "        2.9263e-13]), tensor([1.0000e+00, 1.0000e+00, 1.0000e+00,  ..., 3.1698e-12, 2.4130e-12,\n",
      "        2.2540e-12]), tensor([1.0000e+00, 1.0000e+00, 1.0000e+00,  ..., 1.5106e-11, 1.0005e-11,\n",
      "        9.4634e-12]), tensor([1.0000e+00, 1.0000e+00, 1.0000e+00,  ..., 3.6579e-13, 1.8659e-13,\n",
      "        1.4248e-13]), tensor([1.0000e+00, 1.0000e+00, 1.0000e+00,  ..., 1.2606e-11, 8.9131e-12,\n",
      "        6.8546e-12]), tensor([1.0000e+00, 1.0000e+00, 1.0000e+00,  ..., 8.7370e-11, 7.2067e-11,\n",
      "        2.0608e-11])])\n",
      "1.8828232048084222e-05\n",
      "Epoch: 6\n"
     ]
    },
    {
     "name": "stderr",
     "output_type": "stream",
     "text": [
      "100%|██████████| 3125/3125 [29:57<00:00,  1.74it/s]\n"
     ]
    },
    {
     "name": "stdout",
     "output_type": "stream",
     "text": [
      "Acc:  tensor(0.9958)\n",
      "Prec:  tensor(0.9958)\n",
      "Rec:  tensor(0.9958)\n",
      "MClsROC:  ([tensor([0.0000, 0.0000, 0.0000,  ..., 1.0000, 1.0000, 1.0000]), tensor([0.0000, 0.0000, 0.0000,  ..., 1.0000, 1.0000, 1.0000]), tensor([0.0000, 0.0000, 0.0000,  ..., 1.0000, 1.0000, 1.0000]), tensor([0.0000, 0.0000, 0.0000,  ..., 1.0000, 1.0000, 1.0000]), tensor([0.0000, 0.0000, 0.0000,  ..., 1.0000, 1.0000, 1.0000]), tensor([0.0000, 0.0000, 0.0000,  ..., 1.0000, 1.0000, 1.0000])], [tensor([0.0000, 0.0159, 0.0306,  ..., 1.0000, 1.0000, 1.0000]), tensor([0.0000, 0.0226, 0.0431,  ..., 1.0000, 1.0000, 1.0000]), tensor([0.0000, 0.0367, 0.0629,  ..., 1.0000, 1.0000, 1.0000]), tensor([0.0000, 0.0049, 0.0180,  ..., 1.0000, 1.0000, 1.0000]), tensor([0.0000, 0.0037, 0.0123,  ..., 1.0000, 1.0000, 1.0000]), tensor([0.0000, 0.0178, 0.0405,  ..., 1.0000, 1.0000, 1.0000])], [tensor([1.0000e+00, 1.0000e+00, 1.0000e+00,  ..., 9.0262e-13, 8.6899e-13,\n",
      "        2.9263e-13]), tensor([1.0000e+00, 1.0000e+00, 1.0000e+00,  ..., 1.0342e-12, 4.7805e-13,\n",
      "        3.0498e-13]), tensor([1.0000e+00, 1.0000e+00, 1.0000e+00,  ..., 5.3182e-13, 3.0682e-13,\n",
      "        6.9696e-14]), tensor([1.0000e+00, 1.0000e+00, 1.0000e+00,  ..., 2.1864e-14, 1.9354e-14,\n",
      "        1.9282e-14]), tensor([1.0000e+00, 1.0000e+00, 1.0000e+00,  ..., 5.7380e-13, 5.5273e-13,\n",
      "        2.7413e-13]), tensor([1.0000e+00, 1.0000e+00, 1.0000e+00,  ..., 2.2015e-11, 2.0608e-11,\n",
      "        4.7820e-12])])\n",
      "0.0001982526790985503\n"
     ]
    },
    {
     "name": "stderr",
     "output_type": "stream",
     "text": [
      "100%|██████████| 375/375 [01:15<00:00,  4.98it/s]\n"
     ]
    },
    {
     "name": "stdout",
     "output_type": "stream",
     "text": [
      "Acc:  tensor(0.9959)\n",
      "Prec:  tensor(0.9959)\n",
      "Rec:  tensor(0.9959)\n",
      "MClsROC:  ([tensor([0.0000, 0.0000, 0.0000,  ..., 1.0000, 1.0000, 1.0000]), tensor([0.0000, 0.0000, 0.0000,  ..., 1.0000, 1.0000, 1.0000]), tensor([0.0000, 0.0000, 0.0000,  ..., 1.0000, 1.0000, 1.0000]), tensor([0.0000, 0.0000, 0.0000,  ..., 1.0000, 1.0000, 1.0000]), tensor([0.0000, 0.0000, 0.0000,  ..., 1.0000, 1.0000, 1.0000]), tensor([0.0000, 0.0000, 0.0000,  ..., 1.0000, 1.0000, 1.0000])], [tensor([0.0000, 0.0160, 0.0313,  ..., 1.0000, 1.0000, 1.0000]), tensor([0.0000, 0.0243, 0.0461,  ..., 1.0000, 1.0000, 1.0000]), tensor([0.0000, 0.0402, 0.0684,  ..., 1.0000, 1.0000, 1.0000]), tensor([0.0000, 0.0054, 0.0202,  ..., 1.0000, 1.0000, 1.0000]), tensor([0.0000, 0.0037, 0.0122,  ..., 1.0000, 1.0000, 1.0000]), tensor([0.0000, 0.0177, 0.0406,  ..., 1.0000, 1.0000, 1.0000])], [tensor([1.0000e+00, 1.0000e+00, 1.0000e+00,  ..., 9.0262e-13, 8.6899e-13,\n",
      "        2.9263e-13]), tensor([1.0000e+00, 1.0000e+00, 1.0000e+00,  ..., 1.0342e-12, 4.7805e-13,\n",
      "        3.0498e-13]), tensor([1.0000e+00, 1.0000e+00, 1.0000e+00,  ..., 5.3182e-13, 3.0682e-13,\n",
      "        6.9696e-14]), tensor([1.0000e+00, 1.0000e+00, 1.0000e+00,  ..., 2.1864e-14, 1.9354e-14,\n",
      "        1.9282e-14]), tensor([1.0000e+00, 1.0000e+00, 1.0000e+00,  ..., 5.7380e-13, 5.5273e-13,\n",
      "        2.7413e-13]), tensor([1.0000e+00, 1.0000e+00, 1.0000e+00,  ..., 2.2015e-11, 2.0608e-11,\n",
      "        4.7820e-12])])\n",
      "3.419318557583514e-05\n",
      "Epoch: 7\n"
     ]
    },
    {
     "name": "stderr",
     "output_type": "stream",
     "text": [
      "100%|█████████▉| 3122/3125 [31:44<00:01,  1.67it/s]"
     ]
    },
    {
     "ename": "",
     "evalue": "",
     "output_type": "error",
     "traceback": [
      "\u001b[1;31mПри выполнении кода в текущей ячейке или предыдущей ячейке ядро аварийно завершило работу. \n",
      "\u001b[1;31mПроверьте код в ячейках, чтобы определить возможную причину сбоя. \n",
      "\u001b[1;31mЩелкните <a href='https://aka.ms/vscodeJupyterKernelCrash'>здесь</a>, чтобы получить дополнительные сведения. \n",
      "\u001b[1;31mПодробнее см. в <a href='command:jupyter.viewOutput'>журнале Jupyter</a>."
     ]
    }
   ],
   "source": [
    "for e in range(10):\n",
    "    print(f\"Epoch: {e + 1}\")\n",
    "    loss_train = []\n",
    "    loss_test = []\n",
    "    mcls_test = []\n",
    "    model.train()\n",
    "    for x, y in tqdm(train_loader):\n",
    "        optimizer.zero_grad()\n",
    "        x, y = x.to(device), y.to(device)\n",
    "        predict = model(x)\n",
    "        l = loss_f(predict, y)\n",
    "        l.backward()\n",
    "        loss_train.append(float(l.item()))\n",
    "        optimizer.step()\n",
    "\n",
    "        Accuracy.update(predict, y)\n",
    "        Precision.update(predict, y)\n",
    "        Recall.update(predict, y)\n",
    "        MClsROC.update(predict, y)\n",
    "        mcls_test.append(MClsROC.compute())\n",
    "    print(\"Acc: \", Accuracy.compute())\n",
    "    print(\"Prec: \", Precision.compute())\n",
    "    print(\"Rec: \", Recall.compute())\n",
    "    print(\"MClsROC: \", MClsROC.compute())\n",
    "\n",
    "    print(np.mean(loss_train))\n",
    "    model.eval()\n",
    "    for x, y in tqdm(test_loader):\n",
    "        with torch.no_grad():\n",
    "            x, y = x.to(device), y.to(device)\n",
    "            predict = model(x)\n",
    "            l = loss_f(predict, y)\n",
    "            loss_test.append(float(l.item()))\n",
    "            Accuracy.update(predict, y)\n",
    "            Precision.update(predict, y)\n",
    "            Recall.update(predict, y)\n",
    "            MClsROC.update(predict, y)\n",
    "    print(\"Acc: \", Accuracy.compute())\n",
    "    print(\"Prec: \", Precision.compute())\n",
    "    print(\"Rec: \", Recall.compute())\n",
    "    print(\"MClsROC: \", MClsROC.compute())\n",
    "    print(np.mean(loss_test))\n",
    "\n",
    "    if Accuracy.compute() < 0.00001:\n",
    "        break\n"
   ]
  },
  {
   "cell_type": "code",
   "execution_count": 109,
   "metadata": {},
   "outputs": [
    {
     "data": {
      "text/plain": [
       "[<matplotlib.lines.Line2D at 0x33a7aaaf0>]"
      ]
     },
     "execution_count": 109,
     "metadata": {},
     "output_type": "execute_result"
    },
    {
     "data": {
      "image/png": "[encoded data removed]",
      "text/plain": [
       "<Figure size 640x480 with 1 Axes>"
      ]
     },
     "metadata": {},
     "output_type": "display_data"
    }
   ],
   "source": [
    "import matplotlib.pyplot as plt\n",
    "plt.plot(loss_train)"
   ]
  },
  {
   "cell_type": "markdown",
   "metadata": {},
   "source": [
    "### Gini index\n",
    "\n",
    "# Gini = AUC * 2 - 1\n",
    "\n",
    "Коэффициент Джини вычисляется как двойная площадь между кривой ROC и диагональю (или как Gini = 2AUC - 1). Коэффициент Джини всегда находится между 0 и 1, и чем он больше, тем лучше классификатор. При маловероятном условии, что кривая ROC находится ниже диагонали, коэффициент Джини будет отрицательным.\n",
    "\n",
    "Чтобы посчитать индекс Gini, нужно сперва определить TP, FP, TN и FN значения (например, на валидационной выборке):\n"
   ]
  },
  {
   "cell_type": "code",
   "execution_count": 122,
   "metadata": {},
   "outputs": [
    {
     "name": "stderr",
     "output_type": "stream",
     "text": [
      "  0%|          | 0/185 [00:00<?, ?it/s]\n"
     ]
    },
    {
     "ename": "NameError",
     "evalue": "name 'MClsROC' is not defined",
     "output_type": "error",
     "traceback": [
      "\u001b[0;31m---------------------------------------------------------------------------\u001b[0m",
      "\u001b[0;31mNameError\u001b[0m                                 Traceback (most recent call last)",
      "Cell \u001b[0;32mIn[122], line 12\u001b[0m\n\u001b[1;32m     10\u001b[0m             Precision\u001b[38;5;241m.\u001b[39mupdate(predict, y)\n\u001b[1;32m     11\u001b[0m             Recall\u001b[38;5;241m.\u001b[39mupdate(predict, y)\n\u001b[0;32m---> 12\u001b[0m             \u001b[43mMClsROC\u001b[49m\u001b[38;5;241m.\u001b[39mupdate(predict, y)\n\u001b[1;32m     14\u001b[0m \u001b[38;5;28mprint\u001b[39m(\u001b[38;5;124m\"\u001b[39m\u001b[38;5;124mAcc: \u001b[39m\u001b[38;5;124m\"\u001b[39m, Accuracy\u001b[38;5;241m.\u001b[39mcompute())\n\u001b[1;32m     15\u001b[0m \u001b[38;5;28mprint\u001b[39m(\u001b[38;5;124m\"\u001b[39m\u001b[38;5;124mPrec: \u001b[39m\u001b[38;5;124m\"\u001b[39m, Precision\u001b[38;5;241m.\u001b[39mcompute())\n",
      "\u001b[0;31mNameError\u001b[0m: name 'MClsROC' is not defined"
     ]
    }
   ],
   "source": [
    "loss_valid = []\n",
    "\n",
    "for x, y in tqdm(valid_loader):\n",
    "    with torch.no_grad():\n",
    "            x, y = x.to(device), y.to(device)\n",
    "            predict = model(x)\n",
    "            l = loss_f(predict, y)\n",
    "            loss_valid.append(float(l.item()))\n",
    "            Accuracy.update(predict, y)\n",
    "            Precision.update(predict, y)\n",
    "            Recall.update(predict, y)\n",
    "            MClsROC.update(predict, y)\n",
    "            \n",
    "print(\"Acc: \", Accuracy.compute())\n",
    "print(\"Prec: \", Precision.compute())\n",
    "print(\"Rec: \", Recall.compute())\n",
    "\n",
    "print(np.mean(loss_valid))"
   ]
  },
  {
   "cell_type": "code",
   "execution_count": null,
   "metadata": {},
   "outputs": [],
   "source": []
  },
  {
   "cell_type": "code",
   "execution_count": null,
   "metadata": {},
   "outputs": [
    {
     "data": {
      "text/plain": [
       "MulticlassROC()"
      ]
     },
     "execution_count": 120,
     "metadata": {},
     "output_type": "execute_result"
    }
   ],
   "source": []
  },
  {
   "cell_type": "code",
   "execution_count": null,
   "metadata": {},
   "outputs": [],
   "source": [
    "gini = roc_auc_score * 2 - 1\n",
    "gini"
   ]
  }
 ],
 "metadata": {
  "kernelspec": {
   "display_name": "Python 3",
   "language": "python",
   "name": "python3"
  },
  "language_info": {
   "codemirror_mode": {
    "name": "ipython",
    "version": 3
   },
   "file_extension": ".py",
   "mimetype": "text/x-python",
   "name": "python",
   "nbconvert_exporter": "python",
   "pygments_lexer": "ipython3",
   "version": "3.9.6"
  }
 },
 "nbformat": 4,
 "nbformat_minor": 2
}
